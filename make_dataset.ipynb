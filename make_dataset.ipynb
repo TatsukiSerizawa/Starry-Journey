{
 "cells": [
  {
   "cell_type": "code",
   "execution_count": 1,
   "metadata": {},
   "outputs": [],
   "source": [
    "import os\n",
    "import numpy as np\n",
    "import cv2 "
   ]
  },
  {
   "cell_type": "code",
   "execution_count": null,
   "metadata": {},
   "outputs": [],
   "source": [
    "#read images\n",
    "images = os.listdir(r \"./dataset/images\")\n",
    "images_num = len(images) #number of sheets\n",
    "\n",
    "data = np.zeros((images_num, 1, h, w)) #make image data box\n",
    "for i, imagename in zio(range(images_num), images):\n",
    "    one_data = cv2.imread(filename, 0) #read image by cv2\n",
    "    one_data = cv2.resize(one_data, (h,w))\n",
    "    data[i] = one_data"
   ]
  },
  {
   "cell_type": "code",
   "execution_count": null,
   "metadata": {},
   "outputs": [],
   "source": [
    "#make columns and output\n"
   ]
  }
 ],
 "metadata": {
  "kernelspec": {
   "display_name": "Python 3",
   "language": "python",
   "name": "python3"
  },
  "language_info": {
   "codemirror_mode": {
    "name": "ipython",
    "version": 3
   },
   "file_extension": ".py",
   "mimetype": "text/x-python",
   "name": "python",
   "nbconvert_exporter": "python",
   "pygments_lexer": "ipython3",
   "version": "3.6.4"
  }
 },
 "nbformat": 4,
 "nbformat_minor": 2
}
